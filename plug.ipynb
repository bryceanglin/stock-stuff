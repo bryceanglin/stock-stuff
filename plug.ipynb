{
 "cells": [
  {
   "cell_type": "code",
   "execution_count": 24,
   "metadata": {},
   "outputs": [],
   "source": [
    "import pandas as pd"
   ]
  },
  {
   "cell_type": "code",
   "execution_count": 28,
   "metadata": {},
   "outputs": [
    {
     "data": {
      "text/html": [
       "<div>\n",
       "<style scoped>\n",
       "    .dataframe tbody tr th:only-of-type {\n",
       "        vertical-align: middle;\n",
       "    }\n",
       "\n",
       "    .dataframe tbody tr th {\n",
       "        vertical-align: top;\n",
       "    }\n",
       "\n",
       "    .dataframe thead th {\n",
       "        text-align: right;\n",
       "    }\n",
       "</style>\n",
       "<table border=\"1\" class=\"dataframe\">\n",
       "  <thead>\n",
       "    <tr style=\"text-align: right;\">\n",
       "      <th></th>\n",
       "      <th>Date</th>\n",
       "      <th>Open</th>\n",
       "      <th>High</th>\n",
       "      <th>Low</th>\n",
       "      <th>Close</th>\n",
       "      <th>Adj Close</th>\n",
       "      <th>Volume</th>\n",
       "    </tr>\n",
       "  </thead>\n",
       "  <tbody>\n",
       "    <tr>\n",
       "      <th>0</th>\n",
       "      <td>1/4/2016</td>\n",
       "      <td>2.000000</td>\n",
       "      <td>2.100000</td>\n",
       "      <td>1.960000</td>\n",
       "      <td>2.100000</td>\n",
       "      <td>2.100000</td>\n",
       "      <td>2373300</td>\n",
       "    </tr>\n",
       "    <tr>\n",
       "      <th>1</th>\n",
       "      <td>1/5/2016</td>\n",
       "      <td>2.110000</td>\n",
       "      <td>2.110000</td>\n",
       "      <td>2.030000</td>\n",
       "      <td>2.060000</td>\n",
       "      <td>2.060000</td>\n",
       "      <td>957100</td>\n",
       "    </tr>\n",
       "    <tr>\n",
       "      <th>2</th>\n",
       "      <td>1/6/2016</td>\n",
       "      <td>2.000000</td>\n",
       "      <td>2.050000</td>\n",
       "      <td>1.990000</td>\n",
       "      <td>2.030000</td>\n",
       "      <td>2.030000</td>\n",
       "      <td>1672700</td>\n",
       "    </tr>\n",
       "    <tr>\n",
       "      <th>3</th>\n",
       "      <td>1/7/2016</td>\n",
       "      <td>1.960000</td>\n",
       "      <td>2.010000</td>\n",
       "      <td>1.900000</td>\n",
       "      <td>1.900000</td>\n",
       "      <td>1.900000</td>\n",
       "      <td>2754300</td>\n",
       "    </tr>\n",
       "    <tr>\n",
       "      <th>4</th>\n",
       "      <td>1/8/2016</td>\n",
       "      <td>1.940000</td>\n",
       "      <td>2.020000</td>\n",
       "      <td>1.900000</td>\n",
       "      <td>1.920000</td>\n",
       "      <td>1.920000</td>\n",
       "      <td>1611400</td>\n",
       "    </tr>\n",
       "    <tr>\n",
       "      <th>...</th>\n",
       "      <td>...</td>\n",
       "      <td>...</td>\n",
       "      <td>...</td>\n",
       "      <td>...</td>\n",
       "      <td>...</td>\n",
       "      <td>...</td>\n",
       "      <td>...</td>\n",
       "    </tr>\n",
       "    <tr>\n",
       "      <th>1251</th>\n",
       "      <td>12/21/2020</td>\n",
       "      <td>31.420000</td>\n",
       "      <td>32.459999</td>\n",
       "      <td>30.459999</td>\n",
       "      <td>32.369999</td>\n",
       "      <td>32.369999</td>\n",
       "      <td>35161300</td>\n",
       "    </tr>\n",
       "    <tr>\n",
       "      <th>1252</th>\n",
       "      <td>12/22/2020</td>\n",
       "      <td>34.410000</td>\n",
       "      <td>36.740002</td>\n",
       "      <td>33.799999</td>\n",
       "      <td>35.689999</td>\n",
       "      <td>35.689999</td>\n",
       "      <td>51652500</td>\n",
       "    </tr>\n",
       "    <tr>\n",
       "      <th>1253</th>\n",
       "      <td>12/23/2020</td>\n",
       "      <td>36.759998</td>\n",
       "      <td>37.110001</td>\n",
       "      <td>34.680000</td>\n",
       "      <td>36.139999</td>\n",
       "      <td>36.139999</td>\n",
       "      <td>40179900</td>\n",
       "    </tr>\n",
       "    <tr>\n",
       "      <th>1254</th>\n",
       "      <td>12/24/2020</td>\n",
       "      <td>35.709999</td>\n",
       "      <td>36.669998</td>\n",
       "      <td>34.750000</td>\n",
       "      <td>35.580002</td>\n",
       "      <td>35.580002</td>\n",
       "      <td>19919300</td>\n",
       "    </tr>\n",
       "    <tr>\n",
       "      <th>1255</th>\n",
       "      <td>12/28/2020</td>\n",
       "      <td>37.369999</td>\n",
       "      <td>37.509998</td>\n",
       "      <td>33.529999</td>\n",
       "      <td>33.570000</td>\n",
       "      <td>33.570000</td>\n",
       "      <td>35787800</td>\n",
       "    </tr>\n",
       "  </tbody>\n",
       "</table>\n",
       "<p>1256 rows × 7 columns</p>\n",
       "</div>"
      ],
      "text/plain": [
       "            Date       Open       High        Low      Close  Adj Close  \\\n",
       "0       1/4/2016   2.000000   2.100000   1.960000   2.100000   2.100000   \n",
       "1       1/5/2016   2.110000   2.110000   2.030000   2.060000   2.060000   \n",
       "2       1/6/2016   2.000000   2.050000   1.990000   2.030000   2.030000   \n",
       "3       1/7/2016   1.960000   2.010000   1.900000   1.900000   1.900000   \n",
       "4       1/8/2016   1.940000   2.020000   1.900000   1.920000   1.920000   \n",
       "...          ...        ...        ...        ...        ...        ...   \n",
       "1251  12/21/2020  31.420000  32.459999  30.459999  32.369999  32.369999   \n",
       "1252  12/22/2020  34.410000  36.740002  33.799999  35.689999  35.689999   \n",
       "1253  12/23/2020  36.759998  37.110001  34.680000  36.139999  36.139999   \n",
       "1254  12/24/2020  35.709999  36.669998  34.750000  35.580002  35.580002   \n",
       "1255  12/28/2020  37.369999  37.509998  33.529999  33.570000  33.570000   \n",
       "\n",
       "        Volume  \n",
       "0      2373300  \n",
       "1       957100  \n",
       "2      1672700  \n",
       "3      2754300  \n",
       "4      1611400  \n",
       "...        ...  \n",
       "1251  35161300  \n",
       "1252  51652500  \n",
       "1253  40179900  \n",
       "1254  19919300  \n",
       "1255  35787800  \n",
       "\n",
       "[1256 rows x 7 columns]"
      ]
     },
     "execution_count": 28,
     "metadata": {},
     "output_type": "execute_result"
    }
   ],
   "source": [
    "df = pd.read_csv('./data/PLUG.csv')\n",
    "df"
   ]
  },
  {
   "cell_type": "code",
   "execution_count": 29,
   "metadata": {},
   "outputs": [
    {
     "data": {
      "text/plain": [
       "<AxesSubplot:>"
      ]
     },
     "execution_count": 29,
     "metadata": {},
     "output_type": "execute_result"
    },
    {
     "data": {
      "image/png": "[encoded data removed]",
      "text/plain": [
       "<Figure size 432x288 with 1 Axes>"
      ]
     },
     "metadata": {
      "needs_background": "light"
     },
     "output_type": "display_data"
    }
   ],
   "source": [
    "(df['Close'] - df['Open']).plot.line()"
   ]
  },
  {
   "cell_type": "code",
   "execution_count": 30,
   "metadata": {},
   "outputs": [
    {
     "data": {
      "text/plain": [
       "<AxesSubplot:>"
      ]
     },
     "execution_count": 30,
     "metadata": {},
     "output_type": "execute_result"
    },
    {
     "data": {
      "image/png": "[encoded data removed]",
      "text/plain": [
       "<Figure size 432x288 with 1 Axes>"
      ]
     },
     "metadata": {
      "needs_background": "light"
     },
     "output_type": "display_data"
    }
   ],
   "source": [
    "df['Close'].plot.line()"
   ]
  },
  {
   "cell_type": "code",
   "execution_count": null,
   "metadata": {},
   "outputs": [],
   "source": []
  }
 ],
 "metadata": {
  "kernelspec": {
   "display_name": "Python 3",
   "language": "python",
   "name": "python3"
  },
  "language_info": {
   "codemirror_mode": {
    "name": "ipython",
    "version": 3
   },
   "file_extension": ".py",
   "mimetype": "text/x-python",
   "name": "python",
   "nbconvert_exporter": "python",
   "pygments_lexer": "ipython3",
   "version": "3.8.7"
  }
 },
 "nbformat": 4,
 "nbformat_minor": 4
}
